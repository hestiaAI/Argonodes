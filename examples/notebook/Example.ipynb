{
 "cells": [
  {
   "cell_type": "markdown",
   "id": "0d7e1dfa",
   "metadata": {},
   "source": [
    "## Introduction"
   ]
  },
  {
   "cell_type": "markdown",
   "id": "1a977ab6",
   "metadata": {},
   "source": [
    "### Imports"
   ]
  },
  {
   "cell_type": "code",
   "execution_count": null,
   "id": "523c5799",
   "metadata": {},
   "outputs": [],
   "source": [
    "%load_ext autoreload\n",
    "%autoreload 2"
   ]
  },
  {
   "cell_type": "code",
   "execution_count": null,
   "id": "e688d8f0",
   "metadata": {},
   "outputs": [],
   "source": [
    "import json\n",
    "from pprint import pprint"
   ]
  },
  {
   "cell_type": "markdown",
   "id": "c19ffacb",
   "metadata": {},
   "source": [
    "## Data exploration - Tree"
   ]
  },
  {
   "cell_type": "markdown",
   "id": "80b1631e",
   "metadata": {},
   "source": [
    "### First, we load the raw JSON data"
   ]
  },
  {
   "cell_type": "code",
   "execution_count": null,
   "id": "2cdcdc30",
   "metadata": {},
   "outputs": [],
   "source": [
    "filename = \"../inputs/2022_MARCH.json\"\n",
    "\n",
    "with open(filename, \"r\") as jsonfile:\n",
    "    json_data = json.loads(jsonfile.read())\n",
    "    \n",
    "print(str(json_data)[:512] + \"...\")"
   ]
  },
  {
   "cell_type": "markdown",
   "id": "2e6bdf93",
   "metadata": {},
   "source": [
    "### Then, we create a tree with the data"
   ]
  },
  {
   "cell_type": "code",
   "execution_count": null,
   "id": "f55818b0",
   "metadata": {},
   "outputs": [],
   "source": [
    "from json_ld_semantics.semantics import Tree\n",
    "tree = Tree(json_data)"
   ]
  },
  {
   "cell_type": "markdown",
   "id": "f35cc836",
   "metadata": {},
   "source": [
    "### We can explore whatever is inside"
   ]
  },
  {
   "cell_type": "code",
   "execution_count": null,
   "id": "3d647991",
   "metadata": {},
   "outputs": [],
   "source": [
    "tree"
   ]
  },
  {
   "cell_type": "code",
   "execution_count": null,
   "id": "4e5b0d29",
   "metadata": {},
   "outputs": [],
   "source": [
    "tree.children[0]"
   ]
  },
  {
   "cell_type": "code",
   "execution_count": null,
   "id": "1227aad7",
   "metadata": {
    "scrolled": true
   },
   "outputs": [],
   "source": [
    "print(len(tree.get_paths()))\n",
    "tree.get_paths()"
   ]
  },
  {
   "cell_type": "code",
   "execution_count": null,
   "id": "ed977520",
   "metadata": {},
   "outputs": [],
   "source": [
    "tree.get_children_from_path(\"$.timelineObjects[4].activitySegment.activities[0].activityType\")"
   ]
  },
  {
   "cell_type": "markdown",
   "id": "50382daa",
   "metadata": {},
   "source": [
    "#### `get_children_from_path` supports wildcards and returns every match"
   ]
  },
  {
   "cell_type": "code",
   "execution_count": null,
   "id": "ac28fbeb",
   "metadata": {},
   "outputs": [],
   "source": [
    "tree.get_children_from_path(\"$.timelineObjects[4].activitySegment.activities[*].*\")"
   ]
  },
  {
   "cell_type": "markdown",
   "id": "c0669544",
   "metadata": {},
   "source": [
    "## Data semantics - Model"
   ]
  },
  {
   "cell_type": "markdown",
   "id": "efa6ad30",
   "metadata": {},
   "source": [
    "### We create a new model"
   ]
  },
  {
   "cell_type": "code",
   "execution_count": null,
   "id": "6875da3c",
   "metadata": {},
   "outputs": [],
   "source": [
    "from json_ld_semantics.model import Model\n",
    "model = Model()"
   ]
  },
  {
   "cell_type": "markdown",
   "id": "9dab35c9",
   "metadata": {},
   "source": [
    "### We can add files to a model to process it"
   ]
  },
  {
   "cell_type": "code",
   "execution_count": null,
   "id": "a1ff90b7",
   "metadata": {},
   "outputs": [],
   "source": [
    "model.add_files(filename)\n",
    "model.process_files()"
   ]
  },
  {
   "cell_type": "markdown",
   "id": "9091a7b5",
   "metadata": {},
   "source": [
    "### Or, if we already have a traversal, we can create the model directly from it"
   ]
  },
  {
   "cell_type": "code",
   "execution_count": null,
   "id": "c54ac602",
   "metadata": {},
   "outputs": [],
   "source": [
    "model = Model(traversal=tree.export_traversal())"
   ]
  },
  {
   "cell_type": "markdown",
   "id": "1c77d3c3",
   "metadata": {},
   "source": [
    "### Now, we can see what paths are available in our model"
   ]
  },
  {
   "cell_type": "code",
   "execution_count": null,
   "id": "5ebc9eb3",
   "metadata": {},
   "outputs": [],
   "source": [
    "model.get_paths()"
   ]
  },
  {
   "cell_type": "markdown",
   "id": "d03085be",
   "metadata": {},
   "source": [
    "### But more importantly, we can see what attributes are linked to these paths"
   ]
  },
  {
   "cell_type": "code",
   "execution_count": null,
   "id": "07813542",
   "metadata": {},
   "outputs": [],
   "source": [
    "import pandas as pd"
   ]
  },
  {
   "cell_type": "code",
   "execution_count": null,
   "id": "dcf3e4ef",
   "metadata": {},
   "outputs": [],
   "source": [
    "liste = model.to_list()\n",
    "df = pd.DataFrame(data=liste[1:], columns=liste[0])\n",
    "df.head()"
   ]
  },
  {
   "cell_type": "markdown",
   "id": "dbda5660",
   "metadata": {},
   "source": [
    "### It's a bit empty for now... Let's add some info."
   ]
  },
  {
   "cell_type": "code",
   "execution_count": null,
   "id": "5cb68a35",
   "metadata": {},
   "outputs": [],
   "source": [
    "model.set_attribute(\n",
    "    \"$.timelineObjects\",\n",
    "    unique=True,\n",
    "    description=\"List of semantic locations dertermined by Google. Can be either `placeVisit` or `activitySegment`.\"\n",
    ")"
   ]
  },
  {
   "cell_type": "code",
   "execution_count": null,
   "id": "a99bf8c6",
   "metadata": {},
   "outputs": [],
   "source": [
    "model.set_attribute(\n",
    "    \"$.timelineObjects[*]\",\n",
    "    unique=False,\n",
    "    description=\"One of the semantic locations. Can be either `placeVisit` or `activitySegment`.\"\n",
    ")"
   ]
  },
  {
   "cell_type": "code",
   "execution_count": null,
   "id": "45151e37",
   "metadata": {},
   "outputs": [],
   "source": [
    "model.set_attribute(\n",
    "    \"$.timelineObjects[*].placeVisit.location\",\n",
    "    descriptiveType=\"https://schema.org/location\",\n",
    "    unique=False,\n",
    "    description=\"Location that Google thinks you visited (latitude, longitude, id, address, name and confidence).\"\n",
    ")"
   ]
  },
  {
   "cell_type": "code",
   "execution_count": null,
   "id": "74df8c7c",
   "metadata": {},
   "outputs": [],
   "source": [
    "liste = model.to_list()\n",
    "df = pd.DataFrame(data=liste[1:], columns=liste[0])\n",
    "df.head()"
   ]
  },
  {
   "cell_type": "markdown",
   "id": "ec152d8b",
   "metadata": {},
   "source": [
    "## Data semantics - Apply the model"
   ]
  },
  {
   "cell_type": "markdown",
   "id": "c3f2a3c3",
   "metadata": {},
   "source": [
    "### Now that we have a working model, let's apply it back to our existing tree"
   ]
  },
  {
   "cell_type": "code",
   "execution_count": null,
   "id": "8287b580",
   "metadata": {},
   "outputs": [],
   "source": [
    "tree.get_children_from_path(\"$.timelineObjects\")[0]"
   ]
  },
  {
   "cell_type": "code",
   "execution_count": null,
   "id": "15e084c4",
   "metadata": {},
   "outputs": [],
   "source": [
    "tree.apply_model(model)  # TODO"
   ]
  },
  {
   "cell_type": "code",
   "execution_count": null,
   "id": "dfa3f16d",
   "metadata": {},
   "outputs": [],
   "source": [
    "tree.get_children_from_path(\"$.timelineObjects\")[0]"
   ]
  },
  {
   "cell_type": "markdown",
   "id": "a9b17c5b",
   "metadata": {},
   "source": [
    "## Data semantics - Export and import the model"
   ]
  },
  {
   "cell_type": "markdown",
   "id": "fd6f9138",
   "metadata": {},
   "source": [
    "### If you have an existing model, you can export it!"
   ]
  },
  {
   "cell_type": "code",
   "execution_count": null,
   "id": "e8b98ded",
   "metadata": {},
   "outputs": [],
   "source": [
    "model.dump_traversal(filename=\"my_model.pickle\")"
   ]
  },
  {
   "cell_type": "markdown",
   "id": "e30b6aa0",
   "metadata": {},
   "source": [
    "### Afterwards it can be imported as well."
   ]
  },
  {
   "cell_type": "code",
   "execution_count": null,
   "id": "e383ecbe",
   "metadata": {},
   "outputs": [],
   "source": [
    "model.load_traversal(filename=\"my_model.pickle\")"
   ]
  },
  {
   "cell_type": "code",
   "execution_count": null,
   "id": "0cf1398a",
   "metadata": {},
   "outputs": [],
   "source": []
  }
 ],
 "metadata": {
  "kernelspec": {
   "display_name": "Python 3",
   "language": "python",
   "name": "python3"
  },
  "language_info": {
   "codemirror_mode": {
    "name": "ipython",
    "version": 3
   },
   "file_extension": ".py",
   "mimetype": "text/x-python",
   "name": "python",
   "nbconvert_exporter": "python",
   "pygments_lexer": "ipython3",
   "version": "3.7.3"
  }
 },
 "nbformat": 4,
 "nbformat_minor": 5
}
